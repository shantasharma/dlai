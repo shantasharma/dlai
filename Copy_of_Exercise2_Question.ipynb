{
  "nbformat": 4,
  "nbformat_minor": 0,
  "metadata": {
    "colab": {
      "name": "Copy of Exercise2-Question.ipynb",
      "provenance": [],
      "collapsed_sections": [],
      "toc_visible": true,
      "include_colab_link": true
    },
    "kernelspec": {
      "display_name": "Python 3",
      "name": "python3"
    }
  },
  "cells": [
    {
      "cell_type": "markdown",
      "metadata": {
        "id": "view-in-github",
        "colab_type": "text"
      },
      "source": [
        "<a href=\"https://colab.research.google.com/github/shantasharma/dlai/blob/master/Copy_of_Exercise2_Question.ipynb\" target=\"_parent\"><img src=\"https://colab.research.google.com/assets/colab-badge.svg\" alt=\"Open In Colab\"/></a>"
      ]
    },
    {
      "cell_type": "markdown",
      "metadata": {
        "colab_type": "text",
        "id": "tOoyQ70H00_s"
      },
      "source": [
        "## Exercise 2\n",
        "In the course you learned how to do classification using Fashion MNIST, a data set containing items of clothing. There's another, similar dataset called MNIST which has items of handwriting -- the digits 0 through 9.\n",
        "\n",
        "Write an MNIST classifier that trains to 99% accuracy or above, and does it without a fixed number of epochs -- i.e. you should stop training once you reach that level of accuracy.\n",
        "\n",
        "Some notes:\n",
        "1. It should succeed in less than 10 epochs, so it is okay to change epochs to 10, but nothing larger\n",
        "2. When it reaches 99% or greater it should print out the string \"Reached 99% accuracy so cancelling training!\"\n",
        "3. If you add any additional variables, make sure you use the same names as the ones used in the class\n",
        "\n",
        "I've started the code for you below -- how would you finish it? "
      ]
    },
    {
      "cell_type": "code",
      "metadata": {
        "colab_type": "code",
        "id": "9rvXQGAA0ssC",
        "outputId": "9fdb08fc-dc30-420c-a5d2-0b4de71bf3ba",
        "colab": {
          "base_uri": "https://localhost:8080/",
          "height": 316
        }
      },
      "source": [
        "# YOUR CODE SHOULD START HERE\n",
        "# YOUR CODE SHOULD END HERE\n",
        "import tensorflow as tf\n",
        "from tensorflow import keras\n",
        "print(tf.__version__)\n",
        "mnist = tf.keras.datasets.mnist\n",
        "\n",
        "class myCallback(tf.keras.callbacks.Callback):\n",
        "  def on_epoch_end(self, epoch, logs = {}):\n",
        "    if(logs.get('accuracy')> 0.99):\n",
        "      print(\"\\nReaches 99% accuracy so cancelling training!\") \n",
        "      self.model.stop_training = True\n",
        "\n",
        "callbacks = myCallback()\n",
        "\n",
        "(x_train, y_train),(x_test, y_test) = mnist.load_data()\n",
        "# YOUR CODE SHOULD START HERE\n",
        "x_train = x_train/255.0\n",
        "x_test = x_test/255.0\n",
        "\n",
        "# YOUR CODE SHOULD END HERE\n",
        "model = tf.keras.models.Sequential([tf.keras.layers.Flatten(),\n",
        "                                    tf.keras.layers.Dense(512, activation = tf.nn.relu),\n",
        "                                    tf.keras.layers.Dense(128, activation = tf.nn.relu),\n",
        "                                    tf.keras.layers.Dense(10, activation = tf.nn.softmax)])\n",
        "# YOUR CODE SHOULD START HERE\n",
        "    \n",
        "# YOUR CODE SHOULD END HERE\n",
        "\n",
        "\n",
        "model.compile(optimizer='adam',\n",
        "              loss='sparse_categorical_crossentropy',\n",
        "              metrics=['accuracy'])\n",
        "\n",
        "# YOUR CODE SHOULD START HERE\n",
        "model.fit(x_train, y_train, epochs=8, callbacks= [callbacks])\n",
        "\n",
        "# YOUR CODE SHOULD END HERE\n",
        "model.evaluate(x_test, y_test)"
      ],
      "execution_count": 0,
      "outputs": [
        {
          "output_type": "stream",
          "text": [
            "2.2.0-rc1\n",
            "Epoch 1/8\n",
            "1875/1875 [==============================] - 8s 4ms/step - loss: 0.1873 - accuracy: 0.9445\n",
            "Epoch 2/8\n",
            "1875/1875 [==============================] - 8s 4ms/step - loss: 0.0797 - accuracy: 0.9750\n",
            "Epoch 3/8\n",
            "1875/1875 [==============================] - 8s 4ms/step - loss: 0.0565 - accuracy: 0.9822\n",
            "Epoch 4/8\n",
            "1875/1875 [==============================] - 9s 5ms/step - loss: 0.0397 - accuracy: 0.9872\n",
            "Epoch 5/8\n",
            "1875/1875 [==============================] - 8s 4ms/step - loss: 0.0324 - accuracy: 0.9896\n",
            "Epoch 6/8\n",
            "1870/1875 [============================>.] - ETA: 0s - loss: 0.0262 - accuracy: 0.9913\n",
            "Reaches 99% accuracy so cancelling training!\n",
            "1875/1875 [==============================] - 8s 4ms/step - loss: 0.0262 - accuracy: 0.9913\n",
            "313/313 [==============================] - 1s 2ms/step - loss: 0.0962 - accuracy: 0.9748\n"
          ],
          "name": "stdout"
        },
        {
          "output_type": "execute_result",
          "data": {
            "text/plain": [
              "[0.09623979777097702, 0.9747999906539917]"
            ]
          },
          "metadata": {
            "tags": []
          },
          "execution_count": 9
        }
      ]
    }
  ]
}